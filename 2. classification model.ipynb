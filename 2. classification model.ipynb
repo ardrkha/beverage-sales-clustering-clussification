{
  "cells": [
    {
      "cell_type": "markdown",
      "metadata": {},
      "source": [
        "# **Beverage Sales [Classification]**"
      ]
    },
    {
      "cell_type": "markdown",
      "metadata": {
        "id": "fKADPWcFKlj3"
      },
      "source": [
        "## Import Libraries"
      ]
    },
    {
      "cell_type": "code",
      "execution_count": 1,
      "metadata": {
        "id": "BlmvjLY9M4Yj"
      },
      "outputs": [],
      "source": [
        "import pandas as pd\n",
        "import numpy as np\n",
        "import matplotlib.pyplot as plt\n",
        "import seaborn as sns\n",
        "from sklearn.preprocessing import LabelEncoder\n",
        "from sklearn.model_selection import train_test_split\n",
        "from sklearn.tree import DecisionTreeClassifier\n",
        "from sklearn.ensemble import RandomForestClassifier\n",
        "from sklearn.metrics import confusion_matrix, accuracy_score, precision_score, recall_score, f1_score"
      ]
    },
    {
      "cell_type": "markdown",
      "metadata": {
        "id": "f3YIEnAFKrKL"
      },
      "source": [
        "## Loading Dataset from Clustering Results"
      ]
    },
    {
      "cell_type": "code",
      "execution_count": 3,
      "metadata": {
        "colab": {
          "base_uri": "https://localhost:8080/",
          "height": 424
        },
        "id": "_6FmQwgIpxAH",
        "outputId": "6cdf4f98-bbd1-448a-fdee-f3a5af5e0ea3"
      },
      "outputs": [
        {
          "data": {
            "text/html": [
              "<div>\n",
              "<style scoped>\n",
              "    .dataframe tbody tr th:only-of-type {\n",
              "        vertical-align: middle;\n",
              "    }\n",
              "\n",
              "    .dataframe tbody tr th {\n",
              "        vertical-align: top;\n",
              "    }\n",
              "\n",
              "    .dataframe thead th {\n",
              "        text-align: right;\n",
              "    }\n",
              "</style>\n",
              "<table border=\"1\" class=\"dataframe\">\n",
              "  <thead>\n",
              "    <tr style=\"text-align: right;\">\n",
              "      <th></th>\n",
              "      <th>Unnamed: 0</th>\n",
              "      <th>Customer_Type</th>\n",
              "      <th>Category</th>\n",
              "      <th>Unit_Price</th>\n",
              "      <th>Quantity</th>\n",
              "      <th>Discount</th>\n",
              "      <th>Region</th>\n",
              "      <th>KMeans_Cluster</th>\n",
              "    </tr>\n",
              "  </thead>\n",
              "  <tbody>\n",
              "    <tr>\n",
              "      <th>0</th>\n",
              "      <td>0</td>\n",
              "      <td>B2B</td>\n",
              "      <td>Juices</td>\n",
              "      <td>1.87</td>\n",
              "      <td>74</td>\n",
              "      <td>0.10</td>\n",
              "      <td>Niedersachsen</td>\n",
              "      <td>1</td>\n",
              "    </tr>\n",
              "    <tr>\n",
              "      <th>1</th>\n",
              "      <td>1</td>\n",
              "      <td>B2B</td>\n",
              "      <td>Soft Drinks</td>\n",
              "      <td>1.87</td>\n",
              "      <td>18</td>\n",
              "      <td>0.05</td>\n",
              "      <td>Bremen</td>\n",
              "      <td>0</td>\n",
              "    </tr>\n",
              "    <tr>\n",
              "      <th>2</th>\n",
              "      <td>2</td>\n",
              "      <td>B2B</td>\n",
              "      <td>Alcoholic Beverages</td>\n",
              "      <td>12.04</td>\n",
              "      <td>71</td>\n",
              "      <td>0.15</td>\n",
              "      <td>Thüringen</td>\n",
              "      <td>1</td>\n",
              "    </tr>\n",
              "    <tr>\n",
              "      <th>3</th>\n",
              "      <td>3</td>\n",
              "      <td>B2B</td>\n",
              "      <td>Alcoholic Beverages</td>\n",
              "      <td>64.91</td>\n",
              "      <td>91</td>\n",
              "      <td>0.10</td>\n",
              "      <td>Hamburg</td>\n",
              "      <td>1</td>\n",
              "    </tr>\n",
              "    <tr>\n",
              "      <th>4</th>\n",
              "      <td>4</td>\n",
              "      <td>B2C</td>\n",
              "      <td>Juices</td>\n",
              "      <td>1.64</td>\n",
              "      <td>4</td>\n",
              "      <td>0.00</td>\n",
              "      <td>Sachsen</td>\n",
              "      <td>0</td>\n",
              "    </tr>\n",
              "    <tr>\n",
              "      <th>...</th>\n",
              "      <td>...</td>\n",
              "      <td>...</td>\n",
              "      <td>...</td>\n",
              "      <td>...</td>\n",
              "      <td>...</td>\n",
              "      <td>...</td>\n",
              "      <td>...</td>\n",
              "      <td>...</td>\n",
              "    </tr>\n",
              "    <tr>\n",
              "      <th>9995</th>\n",
              "      <td>9995</td>\n",
              "      <td>B2B</td>\n",
              "      <td>Alcoholic Beverages</td>\n",
              "      <td>30.09</td>\n",
              "      <td>99</td>\n",
              "      <td>0.15</td>\n",
              "      <td>Sachsen-Anhalt</td>\n",
              "      <td>1</td>\n",
              "    </tr>\n",
              "    <tr>\n",
              "      <th>9996</th>\n",
              "      <td>9996</td>\n",
              "      <td>B2B</td>\n",
              "      <td>Alcoholic Beverages</td>\n",
              "      <td>5.20</td>\n",
              "      <td>56</td>\n",
              "      <td>0.10</td>\n",
              "      <td>Rheinland-Pfalz</td>\n",
              "      <td>1</td>\n",
              "    </tr>\n",
              "    <tr>\n",
              "      <th>9997</th>\n",
              "      <td>9997</td>\n",
              "      <td>B2C</td>\n",
              "      <td>Soft Drinks</td>\n",
              "      <td>2.05</td>\n",
              "      <td>14</td>\n",
              "      <td>0.00</td>\n",
              "      <td>Berlin</td>\n",
              "      <td>0</td>\n",
              "    </tr>\n",
              "    <tr>\n",
              "      <th>9998</th>\n",
              "      <td>9998</td>\n",
              "      <td>B2C</td>\n",
              "      <td>Juices</td>\n",
              "      <td>3.31</td>\n",
              "      <td>13</td>\n",
              "      <td>0.00</td>\n",
              "      <td>Bremen</td>\n",
              "      <td>0</td>\n",
              "    </tr>\n",
              "    <tr>\n",
              "      <th>9999</th>\n",
              "      <td>9999</td>\n",
              "      <td>B2C</td>\n",
              "      <td>Soft Drinks</td>\n",
              "      <td>1.19</td>\n",
              "      <td>5</td>\n",
              "      <td>0.00</td>\n",
              "      <td>Saarland</td>\n",
              "      <td>0</td>\n",
              "    </tr>\n",
              "  </tbody>\n",
              "</table>\n",
              "<p>10000 rows × 8 columns</p>\n",
              "</div>"
            ],
            "text/plain": [
              "      Unnamed: 0 Customer_Type             Category  Unit_Price  Quantity  \\\n",
              "0              0           B2B               Juices        1.87        74   \n",
              "1              1           B2B          Soft Drinks        1.87        18   \n",
              "2              2           B2B  Alcoholic Beverages       12.04        71   \n",
              "3              3           B2B  Alcoholic Beverages       64.91        91   \n",
              "4              4           B2C               Juices        1.64         4   \n",
              "...          ...           ...                  ...         ...       ...   \n",
              "9995        9995           B2B  Alcoholic Beverages       30.09        99   \n",
              "9996        9996           B2B  Alcoholic Beverages        5.20        56   \n",
              "9997        9997           B2C          Soft Drinks        2.05        14   \n",
              "9998        9998           B2C               Juices        3.31        13   \n",
              "9999        9999           B2C          Soft Drinks        1.19         5   \n",
              "\n",
              "      Discount           Region  KMeans_Cluster  \n",
              "0         0.10    Niedersachsen               1  \n",
              "1         0.05           Bremen               0  \n",
              "2         0.15        Thüringen               1  \n",
              "3         0.10          Hamburg               1  \n",
              "4         0.00          Sachsen               0  \n",
              "...        ...              ...             ...  \n",
              "9995      0.15   Sachsen-Anhalt               1  \n",
              "9996      0.10  Rheinland-Pfalz               1  \n",
              "9997      0.00           Berlin               0  \n",
              "9998      0.00           Bremen               0  \n",
              "9999      0.00         Saarland               0  \n",
              "\n",
              "[10000 rows x 8 columns]"
            ]
          },
          "execution_count": 3,
          "metadata": {},
          "output_type": "execute_result"
        }
      ],
      "source": [
        "df = pd.read_csv('dataset\\Dataset_classification.csv')\n",
        "df"
      ]
    },
    {
      "cell_type": "code",
      "execution_count": 4,
      "metadata": {
        "colab": {
          "base_uri": "https://localhost:8080/"
        },
        "id": "OG8T3g4JqH1L",
        "outputId": "1bf62f5e-7f81-4470-bda8-a074b50eb268"
      },
      "outputs": [
        {
          "name": "stdout",
          "output_type": "stream",
          "text": [
            "<class 'pandas.core.frame.DataFrame'>\n",
            "RangeIndex: 10000 entries, 0 to 9999\n",
            "Data columns (total 8 columns):\n",
            " #   Column          Non-Null Count  Dtype  \n",
            "---  ------          --------------  -----  \n",
            " 0   Unnamed: 0      10000 non-null  int64  \n",
            " 1   Customer_Type   10000 non-null  object \n",
            " 2   Category        10000 non-null  object \n",
            " 3   Unit_Price      10000 non-null  float64\n",
            " 4   Quantity        10000 non-null  int64  \n",
            " 5   Discount        10000 non-null  float64\n",
            " 6   Region          10000 non-null  object \n",
            " 7   KMeans_Cluster  10000 non-null  int64  \n",
            "dtypes: float64(2), int64(3), object(3)\n",
            "memory usage: 625.1+ KB\n"
          ]
        }
      ],
      "source": [
        "df.info()"
      ]
    },
    {
      "cell_type": "code",
      "execution_count": 5,
      "metadata": {
        "colab": {
          "base_uri": "https://localhost:8080/",
          "height": 497
        },
        "id": "JWZ_BxEtqh6Q",
        "outputId": "713add9e-1bc6-458a-d8b7-4d555f67060a"
      },
      "outputs": [
        {
          "name": "stderr",
          "output_type": "stream",
          "text": [
            "C:\\Users\\ACER\\AppData\\Local\\Temp\\ipykernel_9428\\73074871.py:3: FutureWarning: \n",
            "\n",
            "Passing `palette` without assigning `hue` is deprecated and will be removed in v0.14.0. Assign the `x` variable to `hue` and set `legend=False` for the same effect.\n",
            "\n",
            "  sns.countplot(x='KMeans_Cluster', data=df, palette='viridis')\n"
          ]
        },
        {
          "data": {
            "image/png": "[encoded data removed]",
            "text/plain": [
              "<Figure size 800x400 with 1 Axes>"
            ]
          },
          "metadata": {},
          "output_type": "display_data"
        }
      ],
      "source": [
        "# Visualization of target variable distribution\n",
        "plt.figure(figsize=(8, 4))\n",
        "sns.countplot(x='KMeans_Cluster', data=df, palette='viridis')\n",
        "plt.title('Distribution of Target Variable (K Means Cluster)')\n",
        "plt.show()"
      ]
    },
    {
      "cell_type": "markdown",
      "metadata": {},
      "source": [
        "## Preprocessing"
      ]
    },
    {
      "cell_type": "markdown",
      "metadata": {},
      "source": [
        "### Encoding"
      ]
    },
    {
      "cell_type": "code",
      "execution_count": 6,
      "metadata": {
        "id": "Hd1ka2aSqxie"
      },
      "outputs": [],
      "source": [
        "# Create a LabelEncoder instance\n",
        "label_encoder = LabelEncoder()\n",
        "\n",
        "# List of categorical columns that need to be encoded\n",
        "categorical_columns = ['Customer_Type', 'Category', 'Region']\n",
        "\n",
        "# Encode categorical columns\n",
        "for column in categorical_columns:\n",
        "    df[column] = label_encoder.fit_transform(df[column])"
      ]
    },
    {
      "cell_type": "markdown",
      "metadata": {
        "id": "KkPem5eWL2UP"
      },
      "source": [
        "### Data Splitting"
      ]
    },
    {
      "cell_type": "code",
      "execution_count": 7,
      "metadata": {
        "colab": {
          "base_uri": "https://localhost:8080/"
        },
        "id": "OubAW-7ONKVj",
        "outputId": "037a8c3d-3d1c-42eb-9d96-55b08ddbe0de"
      },
      "outputs": [
        {
          "name": "stdout",
          "output_type": "stream",
          "text": [
            "Training set shape: X_train=(8000, 7), y_train=(8000,)\n",
            "Test set shape: X_test=(2000, 7), y_test=(2000,)\n"
          ]
        }
      ],
      "source": [
        "# Separate features (X) and targets (y)\n",
        "X = df.drop(columns=['KMeans_Cluster'])\n",
        "y = df['KMeans_Cluster']\n",
        "\n",
        "# Split the data into a training set and a test set\n",
        "X_train, X_test, y_train, y_test = train_test_split(X, y, test_size=0.2, random_state=42)\n",
        "\n",
        "# Show the shape of the training set and test set to ensure split\n",
        "print(f\"Training set shape: X_train={X_train.shape}, y_train={y_train.shape}\")\n",
        "print(f\"Test set shape: X_test={X_test.shape}, y_test={y_test.shape}\")"
      ]
    },
    {
      "cell_type": "markdown",
      "metadata": {
        "id": "IVPbB03CMhTT"
      },
      "source": [
        "## Build Classification Model"
      ]
    },
    {
      "cell_type": "markdown",
      "metadata": {},
      "source": [
        "### 1. Decision Tree\n",
        "Decision Tree is a machine learning algorithm used in classification and regression. The structure of this algorithm is similar to a tree with branches representing decisions based on features."
      ]
    },
    {
      "cell_type": "code",
      "execution_count": 8,
      "metadata": {},
      "outputs": [
        {
          "name": "stdout",
          "output_type": "stream",
          "text": [
            "Model training complete.\n"
          ]
        }
      ],
      "source": [
        "dt = DecisionTreeClassifier().fit(X_train, y_train)\n",
        "print(\"Model training complete.\")"
      ]
    },
    {
      "cell_type": "markdown",
      "metadata": {
        "id": "3IyEbXDgvYln"
      },
      "source": [
        "### 2. Random Forest\n",
        "Random Forest is an ensemble learning algorithm that combines multiple Decision Trees to improve accuracy and reduce the risk of overfitting. Here is a detailed explanation of how Random Forest works and its main parameters."
      ]
    },
    {
      "cell_type": "code",
      "execution_count": 9,
      "metadata": {
        "colab": {
          "base_uri": "https://localhost:8080/"
        },
        "id": "4JYxBe87NLDk",
        "outputId": "d90a8dd3-e3ff-4d39-986c-225acdae1ce8"
      },
      "outputs": [
        {
          "name": "stdout",
          "output_type": "stream",
          "text": [
            "Model training complete.\n"
          ]
        }
      ],
      "source": [
        "rf = RandomForestClassifier().fit(X_train, y_train)\n",
        "print(\"Model training complete.\")"
      ]
    },
    {
      "cell_type": "markdown",
      "metadata": {
        "id": "ergzChZFEL-O"
      },
      "source": [
        "## Model Evaluation"
      ]
    },
    {
      "cell_type": "markdown",
      "metadata": {},
      "source": [
        "### Accuracy, Precision, Recall, F1-Score"
      ]
    },
    {
      "cell_type": "code",
      "execution_count": 10,
      "metadata": {
        "id": "oZ_5ZAZctZ3H"
      },
      "outputs": [],
      "source": [
        "# Function to evaluate and return the result as a dictionary\n",
        "def evaluate_model(model, X_test, y_test):\n",
        "    y_pred = model.predict(X_test)\n",
        "    cm = confusion_matrix(y_test, y_pred)\n",
        "\n",
        "    num_classes = len(np.unique(y_test))\n",
        "\n",
        "    if num_classes == 2:\n",
        "        tn, fp, fn, tp = cm.ravel()\n",
        "    else:\n",
        "        tn, fp, fn, tp = None, None, None, None\n",
        "\n",
        "    results = {\n",
        "        'Confusion Matrix': cm,\n",
        "        'True Positive (TP)': tp,\n",
        "        'False Positive (FP)': fp,\n",
        "        'False Negative (FN)': fn,\n",
        "        'True Negative (TN)': tn,\n",
        "        'Accuracy': accuracy_score(y_test, y_pred),\n",
        "\n",
        "        'Precision': precision_score(y_test, y_pred, average='macro'),\n",
        "        'Recall': recall_score(y_test, y_pred, average='macro'),\n",
        "        'F1-Score': f1_score(y_test, y_pred, average='macro')\n",
        "    }\n",
        "    return results"
      ]
    },
    {
      "cell_type": "code",
      "execution_count": 11,
      "metadata": {
        "id": "m8YNBhu0s-tW"
      },
      "outputs": [],
      "source": [
        "# Evaluate each model and collect the results\n",
        "results = {\n",
        "    'Decision Tree (DT)': evaluate_model(dt, X_test, y_test),\n",
        "    'Random Forest (RF)': evaluate_model(rf, X_test, y_test),\n",
        "}"
      ]
    },
    {
      "cell_type": "code",
      "execution_count": 12,
      "metadata": {
        "colab": {
          "base_uri": "https://localhost:8080/",
          "height": 125
        },
        "id": "aVoTXqAStBKk",
        "outputId": "45cf53f9-9a17-43dc-ea72-e4012b2a29b9"
      },
      "outputs": [
        {
          "data": {
            "text/html": [
              "<div>\n",
              "<style scoped>\n",
              "    .dataframe tbody tr th:only-of-type {\n",
              "        vertical-align: middle;\n",
              "    }\n",
              "\n",
              "    .dataframe tbody tr th {\n",
              "        vertical-align: top;\n",
              "    }\n",
              "\n",
              "    .dataframe thead th {\n",
              "        text-align: right;\n",
              "    }\n",
              "</style>\n",
              "<table border=\"1\" class=\"dataframe\">\n",
              "  <thead>\n",
              "    <tr style=\"text-align: right;\">\n",
              "      <th></th>\n",
              "      <th>Model</th>\n",
              "      <th>Accuracy</th>\n",
              "      <th>Precision</th>\n",
              "      <th>Recall</th>\n",
              "      <th>F1-Score</th>\n",
              "    </tr>\n",
              "  </thead>\n",
              "  <tbody>\n",
              "    <tr>\n",
              "      <th>0</th>\n",
              "      <td>Decision Tree (DT)</td>\n",
              "      <td>0.9985</td>\n",
              "      <td>0.980392</td>\n",
              "      <td>0.997602</td>\n",
              "      <td>0.988696</td>\n",
              "    </tr>\n",
              "    <tr>\n",
              "      <th>1</th>\n",
              "      <td>Random Forest (RF)</td>\n",
              "      <td>0.9980</td>\n",
              "      <td>0.979197</td>\n",
              "      <td>0.990657</td>\n",
              "      <td>0.984792</td>\n",
              "    </tr>\n",
              "  </tbody>\n",
              "</table>\n",
              "</div>"
            ],
            "text/plain": [
              "                Model  Accuracy  Precision    Recall  F1-Score\n",
              "0  Decision Tree (DT)    0.9985   0.980392  0.997602  0.988696\n",
              "1  Random Forest (RF)    0.9980   0.979197  0.990657  0.984792"
            ]
          },
          "execution_count": 12,
          "metadata": {},
          "output_type": "execute_result"
        }
      ],
      "source": [
        "# Create a DataFrame to summarize the results\n",
        "summary_df = pd.DataFrame(columns=['Model', 'Accuracy', 'Precision', 'Recall', 'F1-Score'])\n",
        "\n",
        "# Fill the DataFrame with the results\n",
        "rows = []\n",
        "for model_name, metrics in results.items():\n",
        "    rows.append({\n",
        "        'Model': model_name,\n",
        "        'Accuracy': metrics['Accuracy'],\n",
        "        'Precision': metrics['Precision'],\n",
        "        'Recall': metrics['Recall'],\n",
        "        'F1-Score': metrics['F1-Score']\n",
        "    })\n",
        "\n",
        "# Convert list of dictionaries to DataFrame\n",
        "summary_df = pd.DataFrame(rows)\n",
        "\n",
        "# Show DataFrame\n",
        "summary_df"
      ]
    },
    {
      "cell_type": "markdown",
      "metadata": {},
      "source": [
        "### Confusion Matrix"
      ]
    },
    {
      "cell_type": "code",
      "execution_count": 13,
      "metadata": {
        "id": "mvf7XvDazlCM"
      },
      "outputs": [],
      "source": [
        "# Plot confusion matrix\n",
        "def plot_confusion_matrix(cm, class_labels, title='Confusion Matrix'):\n",
        "    plt.figure(figsize=(8,6))\n",
        "    sns.heatmap(cm, annot=True, fmt='d', cmap='Blues', xticklabels=class_labels, yticklabels=class_labels)\n",
        "    plt.title(title)\n",
        "    plt.ylabel('True Label')\n",
        "    plt.xlabel('Predicted Label')\n",
        "    plt.show()\n",
        "\n",
        "cm_dt = results['Decision Tree (DT)']['Confusion Matrix']\n",
        "cm_rf = results['Random Forest (RF)']['Confusion Matrix']\n",
        "class_labels = dt.classes_"
      ]
    },
    {
      "cell_type": "code",
      "execution_count": 14,
      "metadata": {
        "colab": {
          "base_uri": "https://localhost:8080/",
          "height": 581
        },
        "id": "Um9bTUGM0w9C",
        "outputId": "c5127c66-7a7b-492a-949f-de152745f664"
      },
      "outputs": [
        {
          "name": "stdout",
          "output_type": "stream",
          "text": [
            "Confusion Matrix - Decision Tree (DT)\n"
          ]
        },
        {
          "data": {
            "image/png": "[encoded data removed]",
            "text/plain": [
              "<Figure size 800x600 with 2 Axes>"
            ]
          },
          "metadata": {},
          "output_type": "display_data"
        }
      ],
      "source": [
        "print(\"Confusion Matrix - Decision Tree (DT)\")\n",
        "plot_confusion_matrix(cm_dt, class_labels, title='Confusion Matrix Decision Tree')"
      ]
    },
    {
      "cell_type": "code",
      "execution_count": 15,
      "metadata": {
        "colab": {
          "base_uri": "https://localhost:8080/",
          "height": 581
        },
        "id": "jNZOGMLC1QK9",
        "outputId": "16cb8051-1600-4a3e-d1b8-7fae91576909"
      },
      "outputs": [
        {
          "name": "stdout",
          "output_type": "stream",
          "text": [
            "Confusion Matrix - Random Forest (RF)\n"
          ]
        },
        {
          "data": {
            "image/png": "[encoded data removed]",
            "text/plain": [
              "<Figure size 800x600 with 2 Axes>"
            ]
          },
          "metadata": {},
          "output_type": "display_data"
        }
      ],
      "source": [
        "print(\"Confusion Matrix - Random Forest (RF)\")\n",
        "plot_confusion_matrix(cm_rf, class_labels, title='Confusion Matrix Random Forest')"
      ]
    },
    {
      "cell_type": "markdown",
      "metadata": {
        "id": "ZRsOdm4uEgAW"
      },
      "source": [
        "## Analysis of Classification Model Evaluation Results"
      ]
    },
    {
      "cell_type": "markdown",
      "metadata": {
        "id": "2ktjUuKn1rEm"
      },
      "source": [
        "### 1. Comparison of Decision Tree and Random Forest models\n",
        "Based on the evaluation results obtained, the Decision Tree model has a slightly better performance compared to the Random Forest model. Decision Tree recorded an accuracy of 0.9985, a precision of 0.980392, a recall of 0.997602, and an f1-score of 0.988696. While Random Forest has an accuracy of 0.9980, a precision of 0.979197, a recall of 0.990657, and an f1-score of 0.984792. From the confusion matrix, Decision Tree only shows a small prediction error in class 1, namely 3 data that were incorrectly predicted to be class 2. Meanwhile, Random Forest experienced an additional error in class 2, where there was 1 data from class 2 that was incorrectly predicted to be class 1. Thus, it can be concluded that the Decision Tree model shows a slightly better evaluation performance than the Random Forest model in classifying this dataset.\n",
        "\n",
        "### 2. Identifying the weaknesses of both models\n",
        "Although both models show very high performance, there are some weaknesses that need to be considered. Based on the confusion matrix, both Decision Tree and Random Forest experience prediction errors in certain classes, especially class 1 and class 2. In Decision Tree, there are three class 1 data that are incorrectly classified into class 2, while in Random Forest, there is an additional class 2 data that is incorrectly predicted to class 1. This shows that the precision or recall for certain classes is not perfect. In addition, very high accuracy, exceeding 99%, has the potential to indicate mild overfitting, especially in the Decision Tree model which is known to be more prone to overfitting. However, because the evaluation was carried out on test data, this overfitting is not too worrying at this time. No indication of underfitting was found because the model's performance on the test data remained very good.\n",
        "\n",
        "### 3. Recommendations for further action\n",
        "To improve model performance in the future, several follow-up steps are recommended. First, collecting additional data, especially for classes that have fewer data, such as class 2, is very important to reduce data imbalance that can affect model performance. Second, strengthening model generalization can be done by tuning hyperparameters, such as setting max_depth, n_estimators, or min_samples_split on Random Forest, and applying pruning techniques on Decision Tree to reduce the risk of overfitting. Third, trying other machine learning models such as Gradient Boosting (eg XGBoost or LightGBM) or Support Vector Machine (SVM) can be an alternative to compare better performance. In addition, the application of k-fold cross validation is also recommended to test the stability and generalization of the model. Finally, conducting a feature importance analysis is also useful to find out which features contribute the most to the prediction, so that feature selection or engineering can be carried out to improve the overall accuracy of the model."
      ]
    }
  ],
  "metadata": {
    "colab": {
      "provenance": []
    },
    "kernelspec": {
      "display_name": "Python 3",
      "name": "python3"
    },
    "language_info": {
      "codemirror_mode": {
        "name": "ipython",
        "version": 3
      },
      "file_extension": ".py",
      "mimetype": "text/x-python",
      "name": "python",
      "nbconvert_exporter": "python",
      "pygments_lexer": "ipython3",
      "version": "3.9.21"
    }
  },
  "nbformat": 4,
  "nbformat_minor": 0
}
